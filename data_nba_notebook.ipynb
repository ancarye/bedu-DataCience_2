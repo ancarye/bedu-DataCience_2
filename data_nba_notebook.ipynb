{
 "cells": [
  {
   "cell_type": "code",
   "execution_count": 3,
   "id": "548367ed",
   "metadata": {
    "scrolled": true
   },
   "outputs": [
    {
     "name": "stdout",
     "output_type": "stream",
     "text": [
      "File downloaded\n"
     ]
    }
   ],
   "source": [
    "import requests\n",
    "\n",
    "#constants\n",
    "DATASET_URL = 'https://raw.githubusercontent.com/fivethirtyeight/data/master/nba-elo/nbaallelo.csv'\n",
    "FILENAME = 'tmp/NBA.csv'\n",
    "\n",
    "#fetch external file\n",
    "\n",
    "response = requests.get(DATASET_URL)\n",
    "response.raise_for_status()\n",
    "\n",
    "#save data in file\n",
    "\n",
    "with open(FILENAME,'wb') as csv_file:\n",
    "    csv_file.write(response.content)\n",
    "\n",
    "#print finished\n",
    "\n",
    "print('File downloaded')"
   ]
  },
  {
   "cell_type": "code",
   "execution_count": null,
   "id": "f69a2c15",
   "metadata": {},
   "outputs": [],
   "source": []
  }
 ],
 "metadata": {
  "kernelspec": {
   "display_name": "Python 3 (ipykernel)",
   "language": "python",
   "name": "python3"
  },
  "language_info": {
   "codemirror_mode": {
    "name": "ipython",
    "version": 3
   },
   "file_extension": ".py",
   "mimetype": "text/x-python",
   "name": "python",
   "nbconvert_exporter": "python",
   "pygments_lexer": "ipython3",
   "version": "3.11.5"
  }
 },
 "nbformat": 4,
 "nbformat_minor": 5
}
